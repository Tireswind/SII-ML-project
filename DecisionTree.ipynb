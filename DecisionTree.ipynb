{
 "cells": [
  {
   "cell_type": "code",
   "execution_count": 1,
   "metadata": {},
   "outputs": [],
   "source": [
    "import pandas as pd\n",
    "import numpy as np\n",
    "import matplotlib.pyplot as plt\n",
    "%matplotlib inline\n",
    "from collections import Counter\n",
    "import nltk\n",
    "from wordcloud import WordCloud\n",
    "from sklearn.feature_extraction.text import TfidfVectorizer\n",
    "from sklearn.model_selection import train_test_split\n",
    "from sklearn.metrics import f1_score, accuracy_score, recall_score, precision_score\n",
    "from sklearn.linear_model import LogisticRegression\n"
   ]
  },
  {
   "cell_type": "code",
   "execution_count": 3,
   "metadata": {},
   "outputs": [],
   "source": [
    "df = pd.read_pickle('C:\\\\Users\\\\alessandra.flaccaven\\\\saved_files\\\\cleaned_df.pkl')"
   ]
  },
  {
   "cell_type": "code",
   "execution_count": 4,
   "metadata": {},
   "outputs": [],
   "source": [
    "X_body_text = df['clean_text'].values\n",
    "X_title_text = df['clean_title'].values\n",
    "y = df['label'].values"
   ]
  },
  {
   "cell_type": "code",
   "execution_count": 5,
   "metadata": {},
   "outputs": [
    {
     "data": {
      "text/plain": [
       "(466, 5241)"
      ]
     },
     "execution_count": 5,
     "metadata": {},
     "output_type": "execute_result"
    }
   ],
   "source": [
    "from sklearn.feature_extraction.text import TfidfVectorizer\n",
    "\n",
    "tfidf = TfidfVectorizer(ngram_range=(1,2), max_df= 0.85, min_df= 0.01)\n",
    "\n",
    "X_body_tfidf = tfidf.fit_transform(X_body_text)\n",
    "X_title_tfidf = tfidf.fit_transform (X_title_text)\n",
    "\n",
    "\n",
    "features = X_body_tfidf.toarray()\n",
    "#labels = df.category_id\n",
    "features.shape"
   ]
  },
  {
   "cell_type": "code",
   "execution_count": 15,
   "metadata": {},
   "outputs": [],
   "source": [
    "indices = df.index.values\n",
    "\n",
    "X_body_tfidf_train, X_body_tfidf_test, \\\n",
    "y_body_train, y_body_test, \\\n",
    "indices_body_train, indices_body_test = train_test_split(X_body_tfidf, y, indices, test_size = 0.4, random_state=42)"
   ]
  },
  {
   "cell_type": "code",
   "execution_count": 16,
   "metadata": {},
   "outputs": [
    {
     "data": {
      "text/plain": [
       "DecisionTreeClassifier(ccp_alpha=0.0, class_weight=None, criterion='gini',\n",
       "                       max_depth=None, max_features=None, max_leaf_nodes=None,\n",
       "                       min_impurity_decrease=0.0, min_impurity_split=None,\n",
       "                       min_samples_leaf=1, min_samples_split=2,\n",
       "                       min_weight_fraction_leaf=0.0, presort='deprecated',\n",
       "                       random_state=0, splitter='best')"
      ]
     },
     "execution_count": 16,
     "metadata": {},
     "output_type": "execute_result"
    }
   ],
   "source": [
    "nb_body = DecisionTreeClassifier(random_state=0)\n",
    "nb_body.fit(X_body_tfidf_train, y_body_train)"
   ]
  },
  {
   "cell_type": "code",
   "execution_count": 17,
   "metadata": {},
   "outputs": [],
   "source": [
    "y_body_train_pred = nb_body.predict(X_body_tfidf_train)"
   ]
  },
  {
   "cell_type": "code",
   "execution_count": 18,
   "metadata": {},
   "outputs": [
    {
     "name": "stdout",
     "output_type": "stream",
     "text": [
      "DecisionTree In Sample F1 and Accuracy Scores:\n",
      "F1 score 100.0%\n",
      "Accuracy score 100.0%\n",
      "Precision score 100.0%\n",
      "Recall score 100.0%\n"
     ]
    }
   ],
   "source": [
    "print('DecisionTree In Sample F1 and Accuracy Scores:')\n",
    "print('F1 score {:.4}%'.format(f1_score(y_body_train, y_body_train_pred, average='weighted')*100 ))\n",
    "print ('Accuracy score {:.4}%'.format(accuracy_score(y_body_train, y_body_train_pred)*100))\n",
    "print('Precision score {:.4}%'.format(precision_score(y_body_train, y_body_train_pred, average='weighted')*100))\n",
    "print('Recall score {:.4}%'.format(recall_score(y_body_train, y_body_train_pred, average='weighted')*100))"
   ]
  },
  {
   "cell_type": "code",
   "execution_count": 19,
   "metadata": {},
   "outputs": [
    {
     "data": {
      "text/plain": [
       "(array([], dtype=int32),)"
      ]
     },
     "execution_count": 19,
     "metadata": {},
     "output_type": "execute_result"
    }
   ],
   "source": [
    "np.where(y_body_train != y_body_train_pred)"
   ]
  },
  {
   "cell_type": "code",
   "execution_count": 20,
   "metadata": {},
   "outputs": [],
   "source": [
    "y_body_pred = nb_body.predict(X_body_tfidf_test)"
   ]
  },
  {
   "cell_type": "code",
   "execution_count": 21,
   "metadata": {},
   "outputs": [
    {
     "name": "stdout",
     "output_type": "stream",
     "text": [
      "Naive Bayes F1 and Accuracy Scores:\n",
      "F1 score 94.84%\n",
      "Accuracy score 95.72%\n",
      "Precision score 95.04%\n",
      "Recall score 95.72%\n"
     ]
    }
   ],
   "source": [
    "# print metrics\n",
    "print('Naive Bayes F1 and Accuracy Scores:')\n",
    "print('F1 score {:.4}%'.format(f1_score(y_body_test, y_body_pred, average='weighted')*100 ))\n",
    "print ('Accuracy score {:.4}%'.format(accuracy_score(y_body_test, y_body_pred)*100))\n",
    "print('Precision score {:.4}%'.format(precision_score(y_body_test, y_body_pred, average='weighted')*100))\n",
    "print('Recall score {:.4}%'.format(recall_score(y_body_test, y_body_pred, average='weighted')*100))"
   ]
  },
  {
   "cell_type": "code",
   "execution_count": 22,
   "metadata": {},
   "outputs": [
    {
     "data": {
      "text/plain": [
       "(array([  3,  19,  50,  62,  79,  99, 108, 184], dtype=int32),)"
      ]
     },
     "execution_count": 22,
     "metadata": {},
     "output_type": "execute_result"
    }
   ],
   "source": [
    "np.where(y_body_test != y_body_pred)"
   ]
  },
  {
   "cell_type": "code",
   "execution_count": null,
   "metadata": {},
   "outputs": [],
   "source": []
  }
 ],
 "metadata": {
  "kernelspec": {
   "display_name": "Python 3",
   "language": "python",
   "name": "python3"
  },
  "language_info": {
   "codemirror_mode": {
    "name": "ipython",
    "version": 3
   },
   "file_extension": ".py",
   "mimetype": "text/x-python",
   "name": "python",
   "nbconvert_exporter": "python",
   "pygments_lexer": "ipython3",
   "version": "3.7.3"
  }
 },
 "nbformat": 4,
 "nbformat_minor": 4
}
