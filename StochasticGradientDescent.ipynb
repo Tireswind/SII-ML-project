{
 "cells": [
  {
   "cell_type": "code",
   "execution_count": 2,
   "metadata": {},
   "outputs": [],
   "source": [
    "import pandas as pd\n",
    "import numpy as np\n",
    "import matplotlib.pyplot as plt\n",
    "%matplotlib inline\n",
    "from collections import Counter\n",
    "import nltk\n",
    "from wordcloud import WordCloud\n",
    "from sklearn.feature_extraction.text import TfidfVectorizer\n",
    "from sklearn.model_selection import train_test_split\n",
    "from sklearn.metrics import f1_score, accuracy_score, recall_score, precision_score\n",
    "from sklearn.linear_model import LogisticRegression"
   ]
  },
  {
   "cell_type": "code",
   "execution_count": 3,
   "metadata": {},
   "outputs": [],
   "source": [
    "df = pd.read_pickle('C:\\\\Users\\\\alessandra.flaccaven\\\\saved_files\\\\cleaned_df.pkl')"
   ]
  },
  {
   "cell_type": "code",
   "execution_count": 4,
   "metadata": {},
   "outputs": [],
   "source": [
    "X_body_text = df['clean_text'].values\n",
    "X_title_text = df['clean_title'].values\n",
    "y = df['label'].values"
   ]
  },
  {
   "cell_type": "code",
   "execution_count": 5,
   "metadata": {},
   "outputs": [
    {
     "data": {
      "text/plain": [
       "(466, 5241)"
      ]
     },
     "execution_count": 5,
     "metadata": {},
     "output_type": "execute_result"
    }
   ],
   "source": [
    "from sklearn.feature_extraction.text import TfidfVectorizer\n",
    "\n",
    "tfidf = TfidfVectorizer(ngram_range=(1,2), max_df= 0.85, min_df= 0.01)\n",
    "\n",
    "X_body_tfidf = tfidf.fit_transform(X_body_text)\n",
    "X_title_tfidf = tfidf.fit_transform (X_title_text)\n",
    "\n",
    "\n",
    "features = X_body_tfidf.toarray()\n",
    "#labels = df.category_id\n",
    "features.shape"
   ]
  },
  {
   "cell_type": "code",
   "execution_count": 31,
   "metadata": {},
   "outputs": [],
   "source": [
    "indices = df.index.values\n",
    "\n",
    "X_body_tfidf_train, X_body_tfidf_test, \\\n",
    "y_body_train, y_body_test, \\\n",
    "indices_body_train, indices_body_test = train_test_split(X_body_tfidf, y, indices, test_size = 0.4, random_state=42)"
   ]
  },
  {
   "cell_type": "code",
   "execution_count": 32,
   "metadata": {},
   "outputs": [
    {
     "data": {
      "text/plain": [
       "SGDClassifier(alpha=0.0001, average=False, class_weight=None,\n",
       "              early_stopping=False, epsilon=0.1, eta0=0.0, fit_intercept=True,\n",
       "              l1_ratio=0.15, learning_rate='optimal', loss='hinge',\n",
       "              max_iter=1000, n_iter_no_change=5, n_jobs=None, penalty='l2',\n",
       "              power_t=0.5, random_state=None, shuffle=True, tol=0.001,\n",
       "              validation_fraction=0.1, verbose=0, warm_start=False)"
      ]
     },
     "execution_count": 32,
     "metadata": {},
     "output_type": "execute_result"
    }
   ],
   "source": [
    "nb_body = linear_model.SGDClassifier(max_iter=1000, tol=1e-3)\n",
    "nb_body.fit(X_body_tfidf_train, y_body_train)"
   ]
  },
  {
   "cell_type": "code",
   "execution_count": 33,
   "metadata": {},
   "outputs": [],
   "source": [
    "y_body_train_pred = nb_body.predict(X_body_tfidf_train)"
   ]
  },
  {
   "cell_type": "code",
   "execution_count": 34,
   "metadata": {},
   "outputs": [
    {
     "name": "stdout",
     "output_type": "stream",
     "text": [
      "LogisticRegression In Sample F1 and Accuracy Scores:\n",
      "F1 score 100.0%\n",
      "Accuracy score 100.0%\n",
      "Precision score 100.0%\n",
      "Recall score 100.0%\n"
     ]
    }
   ],
   "source": [
    "print('LogisticRegression In Sample F1 and Accuracy Scores:')\n",
    "print('F1 score {:.4}%'.format(f1_score(y_body_train, y_body_train_pred, average='weighted')*100 ))\n",
    "print ('Accuracy score {:.4}%'.format(accuracy_score(y_body_train, y_body_train_pred)*100))\n",
    "print('Precision score {:.4}%'.format(precision_score(y_body_train, y_body_train_pred, average='weighted')*100))\n",
    "print('Recall score {:.4}%'.format(recall_score(y_body_train, y_body_train_pred, average='weighted')*100))"
   ]
  },
  {
   "cell_type": "code",
   "execution_count": 35,
   "metadata": {},
   "outputs": [
    {
     "data": {
      "text/plain": [
       "(array([], dtype=int32),)"
      ]
     },
     "execution_count": 35,
     "metadata": {},
     "output_type": "execute_result"
    }
   ],
   "source": [
    "np.where(y_body_train != y_body_train_pred)"
   ]
  },
  {
   "cell_type": "code",
   "execution_count": 36,
   "metadata": {},
   "outputs": [],
   "source": [
    "y_body_pred = nb_body.predict(X_body_tfidf_test)"
   ]
  },
  {
   "cell_type": "code",
   "execution_count": 37,
   "metadata": {},
   "outputs": [
    {
     "name": "stdout",
     "output_type": "stream",
     "text": [
      "Naive Bayes F1 and Accuracy Scores:\n",
      "F1 score 96.13%\n",
      "Accuracy score 96.79%\n",
      "Precision score 96.9%\n",
      "Recall score 96.79%\n"
     ]
    }
   ],
   "source": [
    "# print metrics\n",
    "print('Naive Bayes F1 and Accuracy Scores:')\n",
    "print('F1 score {:.4}%'.format(f1_score(y_body_test, y_body_pred, average='weighted')*100 ))\n",
    "print ('Accuracy score {:.4}%'.format(accuracy_score(y_body_test, y_body_pred)*100))\n",
    "print('Precision score {:.4}%'.format(precision_score(y_body_test, y_body_pred, average='weighted')*100))\n",
    "print('Recall score {:.4}%'.format(recall_score(y_body_test, y_body_pred, average='weighted')*100))"
   ]
  },
  {
   "cell_type": "code",
   "execution_count": 38,
   "metadata": {},
   "outputs": [
    {
     "data": {
      "text/plain": [
       "(array([  3,  50,  62,  79, 108, 184], dtype=int32),)"
      ]
     },
     "execution_count": 38,
     "metadata": {},
     "output_type": "execute_result"
    }
   ],
   "source": [
    "np.where(y_body_test != y_body_pred)"
   ]
  },
  {
   "cell_type": "code",
   "execution_count": null,
   "metadata": {},
   "outputs": [],
   "source": []
  },
  {
   "cell_type": "code",
   "execution_count": null,
   "metadata": {},
   "outputs": [],
   "source": []
  },
  {
   "cell_type": "code",
   "execution_count": null,
   "metadata": {},
   "outputs": [],
   "source": []
  }
 ],
 "metadata": {
  "kernelspec": {
   "display_name": "Python 3",
   "language": "python",
   "name": "python3"
  },
  "language_info": {
   "codemirror_mode": {
    "name": "ipython",
    "version": 3
   },
   "file_extension": ".py",
   "mimetype": "text/x-python",
   "name": "python",
   "nbconvert_exporter": "python",
   "pygments_lexer": "ipython3",
   "version": "3.7.3"
  }
 },
 "nbformat": 4,
 "nbformat_minor": 4
}
