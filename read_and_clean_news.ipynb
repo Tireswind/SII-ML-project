{
 "cells": [
  {
   "cell_type": "code",
   "execution_count": 2,
   "metadata": {},
   "outputs": [],
   "source": [
    "import json\n",
    "import pandas as pd\n",
    "import numpy as np\n",
    "import matplotlib.pyplot as plt\n",
    "%matplotlib inline"
   ]
  },
  {
   "cell_type": "code",
   "execution_count": 3,
   "metadata": {},
   "outputs": [],
   "source": [
    "fname = 'C:\\\\Users\\\\alessandra.flaccaven\\\\saved_files\\\\scraped_articles.json'"
   ]
  },
  {
   "cell_type": "code",
   "execution_count": 4,
   "metadata": {},
   "outputs": [],
   "source": [
    "with open(fname) as json_data:\n",
    "    d = json.load(json_data)"
   ]
  },
  {
   "cell_type": "code",
   "execution_count": 5,
   "metadata": {},
   "outputs": [
    {
     "name": "stdout",
     "output_type": "stream",
     "text": [
      "0 newyorktimes_business\n",
      "1 newyorktimes_science\n",
      "2 newyorktimes_technology\n",
      "3 cnnmoney\n",
      "4 marketwatch_newsletters\n"
     ]
    }
   ],
   "source": [
    "for i, site in enumerate((list(d['newspapers'])[:5])):\n",
    "    print(i, site)"
   ]
  },
  {
   "cell_type": "code",
   "execution_count": 6,
   "metadata": {},
   "outputs": [],
   "source": [
    "# create a dataframe, with all of the articles, one row per article\n",
    "\n",
    "for i, site in enumerate((list(d['newspapers']))):\n",
    "    articles = list(d['newspapers'][site]['articles'])\n",
    "    if i == 0:\n",
    "        df = pd.DataFrame.from_dict(articles)\n",
    "    else:\n",
    "        new_df = pd.DataFrame.from_dict(articles)\n",
    "        df = pd.concat([df, new_df], ignore_index = True)"
   ]
  },
  {
   "cell_type": "code",
   "execution_count": 7,
   "metadata": {},
   "outputs": [
    {
     "data": {
      "text/plain": [
       "(466, 5)"
      ]
     },
     "execution_count": 7,
     "metadata": {},
     "output_type": "execute_result"
    }
   ],
   "source": [
    "df.shape"
   ]
  },
  {
   "cell_type": "code",
   "execution_count": 8,
   "metadata": {},
   "outputs": [
    {
     "data": {
      "text/html": [
       "<div>\n",
       "<style scoped>\n",
       "    .dataframe tbody tr th:only-of-type {\n",
       "        vertical-align: middle;\n",
       "    }\n",
       "\n",
       "    .dataframe tbody tr th {\n",
       "        vertical-align: top;\n",
       "    }\n",
       "\n",
       "    .dataframe thead th {\n",
       "        text-align: right;\n",
       "    }\n",
       "</style>\n",
       "<table border=\"1\" class=\"dataframe\">\n",
       "  <thead>\n",
       "    <tr style=\"text-align: right;\">\n",
       "      <th></th>\n",
       "      <th>link</th>\n",
       "      <th>published</th>\n",
       "      <th>title</th>\n",
       "      <th>text</th>\n",
       "      <th>author</th>\n",
       "    </tr>\n",
       "  </thead>\n",
       "  <tbody>\n",
       "    <tr>\n",
       "      <th>0</th>\n",
       "      <td>https://www.nytimes.com/2020/02/11/business/ch...</td>\n",
       "      <td>2020-02-11T23:39:27</td>\n",
       "      <td>As Coronavirus Stifles China, Economic Logjams...</td>\n",
       "      <td>In Australia, after hauling hundreds of thousa...</td>\n",
       "      <td>[Matt Phillips]</td>\n",
       "    </tr>\n",
       "    <tr>\n",
       "      <th>1</th>\n",
       "      <td>https://www.nytimes.com/2020/02/12/business/de...</td>\n",
       "      <td>2020-02-12T12:22:02</td>\n",
       "      <td>SoftBank Takes Another Multibillion-Dollar Hit...</td>\n",
       "      <td>TOKYO — SoftBank Group has taken another multi...</td>\n",
       "      <td>[Ben Dooley]</td>\n",
       "    </tr>\n",
       "    <tr>\n",
       "      <th>2</th>\n",
       "      <td>https://www.nytimes.com/2020/02/12/technology/...</td>\n",
       "      <td>2020-02-12T11:20:39</td>\n",
       "      <td>Britain to Create Regulator for Internet Content</td>\n",
       "      <td>LONDON — Britain on Wednesday introduced a pla...</td>\n",
       "      <td>[Adam Satariano]</td>\n",
       "    </tr>\n",
       "    <tr>\n",
       "      <th>3</th>\n",
       "      <td>https://www.nytimes.com/2020/02/11/business/me...</td>\n",
       "      <td>2020-02-11T21:42:23</td>\n",
       "      <td>T-Mobile and Sprint Are Cleared to Merge as th...</td>\n",
       "      <td>“Today was a huge victory for this merger,” Jo...</td>\n",
       "      <td>[Edmund Lee]</td>\n",
       "    </tr>\n",
       "    <tr>\n",
       "      <th>4</th>\n",
       "      <td>https://www.nytimes.com/2020/02/11/business/co...</td>\n",
       "      <td>2020-02-11T23:33:57</td>\n",
       "      <td>Coronavirus Shock Could Push Europe Into a Dow...</td>\n",
       "      <td>FRANKFURT — So far, only scattered cases of th...</td>\n",
       "      <td>[Jack Ewing]</td>\n",
       "    </tr>\n",
       "  </tbody>\n",
       "</table>\n",
       "</div>"
      ],
      "text/plain": [
       "                                                link            published  \\\n",
       "0  https://www.nytimes.com/2020/02/11/business/ch...  2020-02-11T23:39:27   \n",
       "1  https://www.nytimes.com/2020/02/12/business/de...  2020-02-12T12:22:02   \n",
       "2  https://www.nytimes.com/2020/02/12/technology/...  2020-02-12T11:20:39   \n",
       "3  https://www.nytimes.com/2020/02/11/business/me...  2020-02-11T21:42:23   \n",
       "4  https://www.nytimes.com/2020/02/11/business/co...  2020-02-11T23:33:57   \n",
       "\n",
       "                                               title  \\\n",
       "0  As Coronavirus Stifles China, Economic Logjams...   \n",
       "1  SoftBank Takes Another Multibillion-Dollar Hit...   \n",
       "2   Britain to Create Regulator for Internet Content   \n",
       "3  T-Mobile and Sprint Are Cleared to Merge as th...   \n",
       "4  Coronavirus Shock Could Push Europe Into a Dow...   \n",
       "\n",
       "                                                text            author  \n",
       "0  In Australia, after hauling hundreds of thousa...   [Matt Phillips]  \n",
       "1  TOKYO — SoftBank Group has taken another multi...      [Ben Dooley]  \n",
       "2  LONDON — Britain on Wednesday introduced a pla...  [Adam Satariano]  \n",
       "3  “Today was a huge victory for this merger,” Jo...      [Edmund Lee]  \n",
       "4  FRANKFURT — So far, only scattered cases of th...      [Jack Ewing]  "
      ]
     },
     "execution_count": 8,
     "metadata": {},
     "output_type": "execute_result"
    }
   ],
   "source": [
    "df.head()"
   ]
  },
  {
   "cell_type": "code",
   "execution_count": 9,
   "metadata": {},
   "outputs": [],
   "source": [
    "df.to_pickle('C:\\\\Users\\\\alessandra.flaccaven\\\\saved_files\\\\dirty_df.pkl')"
   ]
  },
  {
   "cell_type": "code",
   "execution_count": 10,
   "metadata": {},
   "outputs": [],
   "source": [
    "# list of spam sites\n",
    "spam = list(d['newspapers'])[-11:]"
   ]
  },
  {
   "cell_type": "code",
   "execution_count": 11,
   "metadata": {},
   "outputs": [],
   "source": [
    "# create a column for the label of the article, a label of 0 is ham, a label of 1 is spam\n",
    "df['label'] = 0"
   ]
  },
  {
   "cell_type": "code",
   "execution_count": 12,
   "metadata": {},
   "outputs": [],
   "source": [
    "for i, site in enumerate(spam):\n",
    "    df.loc[df['link'].str.contains('{}'.format(site)), 'label'] = 1"
   ]
  },
  {
   "cell_type": "code",
   "execution_count": 13,
   "metadata": {},
   "outputs": [
    {
     "data": {
      "text/html": [
       "<div>\n",
       "<style scoped>\n",
       "    .dataframe tbody tr th:only-of-type {\n",
       "        vertical-align: middle;\n",
       "    }\n",
       "\n",
       "    .dataframe tbody tr th {\n",
       "        vertical-align: top;\n",
       "    }\n",
       "\n",
       "    .dataframe thead th {\n",
       "        text-align: right;\n",
       "    }\n",
       "</style>\n",
       "<table border=\"1\" class=\"dataframe\">\n",
       "  <thead>\n",
       "    <tr style=\"text-align: right;\">\n",
       "      <th></th>\n",
       "      <th>title</th>\n",
       "    </tr>\n",
       "    <tr>\n",
       "      <th>label</th>\n",
       "      <th></th>\n",
       "    </tr>\n",
       "  </thead>\n",
       "  <tbody>\n",
       "    <tr>\n",
       "      <th>0</th>\n",
       "      <td>446</td>\n",
       "    </tr>\n",
       "    <tr>\n",
       "      <th>1</th>\n",
       "      <td>20</td>\n",
       "    </tr>\n",
       "  </tbody>\n",
       "</table>\n",
       "</div>"
      ],
      "text/plain": [
       "       title\n",
       "label       \n",
       "0        446\n",
       "1         20"
      ]
     },
     "execution_count": 13,
     "metadata": {},
     "output_type": "execute_result"
    }
   ],
   "source": [
    "# 446 non spam articles, 20 spam articles\n",
    "df[['title', 'label']].groupby('label').agg('count')"
   ]
  },
  {
   "cell_type": "code",
   "execution_count": 17,
   "metadata": {},
   "outputs": [],
   "source": [
    "# python module for cleaning\n",
    "%run C:\\\\Users\\\\alessandra.flaccaven\\\\modules\\\\cleaning_helper1.py"
   ]
  },
  {
   "cell_type": "code",
   "execution_count": 18,
   "metadata": {},
   "outputs": [],
   "source": [
    "df1 = df.copy()"
   ]
  },
  {
   "cell_type": "code",
   "execution_count": 19,
   "metadata": {},
   "outputs": [],
   "source": [
    "# function imported from python module\n",
    "df1 = clean_column(df1, 'title', 'clean_title')"
   ]
  },
  {
   "cell_type": "code",
   "execution_count": 20,
   "metadata": {},
   "outputs": [],
   "source": [
    "df1 = clean_column(df1, 'text', 'clean_text')"
   ]
  },
  {
   "cell_type": "code",
   "execution_count": 21,
   "metadata": {},
   "outputs": [],
   "source": [
    "# function imported from python module\n",
    "filtration(df1, 'clean_title')"
   ]
  },
  {
   "cell_type": "code",
   "execution_count": 22,
   "metadata": {},
   "outputs": [],
   "source": [
    "filtration(df1, 'clean_text')"
   ]
  },
  {
   "cell_type": "code",
   "execution_count": 23,
   "metadata": {},
   "outputs": [
    {
     "data": {
      "text/html": [
       "<div>\n",
       "<style scoped>\n",
       "    .dataframe tbody tr th:only-of-type {\n",
       "        vertical-align: middle;\n",
       "    }\n",
       "\n",
       "    .dataframe tbody tr th {\n",
       "        vertical-align: top;\n",
       "    }\n",
       "\n",
       "    .dataframe thead th {\n",
       "        text-align: right;\n",
       "    }\n",
       "</style>\n",
       "<table border=\"1\" class=\"dataframe\">\n",
       "  <thead>\n",
       "    <tr style=\"text-align: right;\">\n",
       "      <th></th>\n",
       "      <th>link</th>\n",
       "      <th>published</th>\n",
       "      <th>title</th>\n",
       "      <th>text</th>\n",
       "      <th>author</th>\n",
       "      <th>label</th>\n",
       "      <th>clean_title</th>\n",
       "      <th>clean_text</th>\n",
       "    </tr>\n",
       "  </thead>\n",
       "  <tbody>\n",
       "    <tr>\n",
       "      <th>0</th>\n",
       "      <td>https://www.nytimes.com/2020/02/11/business/ch...</td>\n",
       "      <td>2020-02-11T23:39:27</td>\n",
       "      <td>As Coronavirus Stifles China, Economic Logjams...</td>\n",
       "      <td>In Australia, after hauling hundreds of thousa...</td>\n",
       "      <td>[Matt Phillips]</td>\n",
       "      <td>0</td>\n",
       "      <td>coronavirus stifles china economic logjams bui...</td>\n",
       "      <td>australia hauling hundreds thousands tons iron...</td>\n",
       "    </tr>\n",
       "    <tr>\n",
       "      <th>1</th>\n",
       "      <td>https://www.nytimes.com/2020/02/12/business/de...</td>\n",
       "      <td>2020-02-12T12:22:02</td>\n",
       "      <td>SoftBank Takes Another Multibillion-Dollar Hit...</td>\n",
       "      <td>TOKYO — SoftBank Group has taken another multi...</td>\n",
       "      <td>[Ben Dooley]</td>\n",
       "      <td>0</td>\n",
       "      <td>softbank takes another muibillion dollar hit b...</td>\n",
       "      <td>tokyo softbank group taken another muibillion ...</td>\n",
       "    </tr>\n",
       "    <tr>\n",
       "      <th>2</th>\n",
       "      <td>https://www.nytimes.com/2020/02/12/technology/...</td>\n",
       "      <td>2020-02-12T11:20:39</td>\n",
       "      <td>Britain to Create Regulator for Internet Content</td>\n",
       "      <td>LONDON — Britain on Wednesday introduced a pla...</td>\n",
       "      <td>[Adam Satariano]</td>\n",
       "      <td>0</td>\n",
       "      <td>britain create regulator internet content</td>\n",
       "      <td>london britain wednesday introduced plan would...</td>\n",
       "    </tr>\n",
       "    <tr>\n",
       "      <th>3</th>\n",
       "      <td>https://www.nytimes.com/2020/02/11/business/me...</td>\n",
       "      <td>2020-02-11T21:42:23</td>\n",
       "      <td>T-Mobile and Sprint Are Cleared to Merge as th...</td>\n",
       "      <td>“Today was a huge victory for this merger,” Jo...</td>\n",
       "      <td>[Edmund Lee]</td>\n",
       "      <td>0</td>\n",
       "      <td>t mobile sprint cleared merge big get bigger</td>\n",
       "      <td>\"today huge victory merger\" john legere chief ...</td>\n",
       "    </tr>\n",
       "    <tr>\n",
       "      <th>4</th>\n",
       "      <td>https://www.nytimes.com/2020/02/11/business/co...</td>\n",
       "      <td>2020-02-11T23:33:57</td>\n",
       "      <td>Coronavirus Shock Could Push Europe Into a Dow...</td>\n",
       "      <td>FRANKFURT — So far, only scattered cases of th...</td>\n",
       "      <td>[Jack Ewing]</td>\n",
       "      <td>0</td>\n",
       "      <td>coronavirus shock could push europe downturn</td>\n",
       "      <td>frankfurt far scattered cases coronavirus appe...</td>\n",
       "    </tr>\n",
       "  </tbody>\n",
       "</table>\n",
       "</div>"
      ],
      "text/plain": [
       "                                                link            published  \\\n",
       "0  https://www.nytimes.com/2020/02/11/business/ch...  2020-02-11T23:39:27   \n",
       "1  https://www.nytimes.com/2020/02/12/business/de...  2020-02-12T12:22:02   \n",
       "2  https://www.nytimes.com/2020/02/12/technology/...  2020-02-12T11:20:39   \n",
       "3  https://www.nytimes.com/2020/02/11/business/me...  2020-02-11T21:42:23   \n",
       "4  https://www.nytimes.com/2020/02/11/business/co...  2020-02-11T23:33:57   \n",
       "\n",
       "                                               title  \\\n",
       "0  As Coronavirus Stifles China, Economic Logjams...   \n",
       "1  SoftBank Takes Another Multibillion-Dollar Hit...   \n",
       "2   Britain to Create Regulator for Internet Content   \n",
       "3  T-Mobile and Sprint Are Cleared to Merge as th...   \n",
       "4  Coronavirus Shock Could Push Europe Into a Dow...   \n",
       "\n",
       "                                                text            author  label  \\\n",
       "0  In Australia, after hauling hundreds of thousa...   [Matt Phillips]      0   \n",
       "1  TOKYO — SoftBank Group has taken another multi...      [Ben Dooley]      0   \n",
       "2  LONDON — Britain on Wednesday introduced a pla...  [Adam Satariano]      0   \n",
       "3  “Today was a huge victory for this merger,” Jo...      [Edmund Lee]      0   \n",
       "4  FRANKFURT — So far, only scattered cases of th...      [Jack Ewing]      0   \n",
       "\n",
       "                                         clean_title  \\\n",
       "0  coronavirus stifles china economic logjams bui...   \n",
       "1  softbank takes another muibillion dollar hit b...   \n",
       "2          britain create regulator internet content   \n",
       "3       t mobile sprint cleared merge big get bigger   \n",
       "4       coronavirus shock could push europe downturn   \n",
       "\n",
       "                                          clean_text  \n",
       "0  australia hauling hundreds thousands tons iron...  \n",
       "1  tokyo softbank group taken another muibillion ...  \n",
       "2  london britain wednesday introduced plan would...  \n",
       "3  \"today huge victory merger\" john legere chief ...  \n",
       "4  frankfurt far scattered cases coronavirus appe...  "
      ]
     },
     "execution_count": 23,
     "metadata": {},
     "output_type": "execute_result"
    }
   ],
   "source": [
    "df1.head()"
   ]
  },
  {
   "cell_type": "code",
   "execution_count": 24,
   "metadata": {},
   "outputs": [],
   "source": [
    "df1.to_pickle('C:\\\\Users\\\\alessandra.flaccaven\\\\saved_files\\\\cleaned_df.pkl')"
   ]
  },
  {
   "cell_type": "code",
   "execution_count": null,
   "metadata": {},
   "outputs": [],
   "source": []
  }
 ],
 "metadata": {
  "kernelspec": {
   "display_name": "Python 3",
   "language": "python",
   "name": "python3"
  },
  "language_info": {
   "codemirror_mode": {
    "name": "ipython",
    "version": 3
   },
   "file_extension": ".py",
   "mimetype": "text/x-python",
   "name": "python",
   "nbconvert_exporter": "python",
   "pygments_lexer": "ipython3",
   "version": "3.7.3"
  }
 },
 "nbformat": 4,
 "nbformat_minor": 4
}
